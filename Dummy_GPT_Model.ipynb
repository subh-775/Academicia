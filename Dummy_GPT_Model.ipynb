{
  "nbformat": 4,
  "nbformat_minor": 0,
  "metadata": {
    "colab": {
      "provenance": [],
      "toc_visible": true,
      "mount_file_id": "1pou7FHkdhrWlMl-dJ4YeN-uN8uPtHA9l",
      "authorship_tag": "ABX9TyPL5In3PG+YU004qLojc89C",
      "include_colab_link": true
    },
    "kernelspec": {
      "name": "python3",
      "display_name": "Python 3"
    },
    "language_info": {
      "name": "python"
    }
  },
  "cells": [
    {
      "cell_type": "markdown",
      "metadata": {
        "id": "view-in-github",
        "colab_type": "text"
      },
      "source": [
        "<a href=\"https://colab.research.google.com/github/subh-775/Academicia/blob/main/Dummy_GPT_Model.ipynb\" target=\"_parent\"><img src=\"https://colab.research.google.com/assets/colab-badge.svg\" alt=\"Open In Colab\"/></a>"
      ]
    },
    {
      "cell_type": "markdown",
      "source": [
        "# Implementing a GPT model from scratch to generate text"
      ],
      "metadata": {
        "id": "JQcMLTLXseVN"
      }
    },
    {
      "cell_type": "markdown",
      "source": [
        "![GPT Architecture](/content/gpt.png)\n"
      ],
      "metadata": {
        "id": "ekEPGrrdUCBy"
      }
    },
    {
      "cell_type": "code",
      "source": [
        "GPT_CONFIG_124M = {\n",
        "    \"vocab_size\": 50257,    # Vocabulary size\n",
        "    \"context_length\": 1024, # Context length\n",
        "    \"emb_dim\": 768,         # Embedding dimension\n",
        "    \"n_heads\": 12,          # Number of attention heads\n",
        "    \"n_layers\": 12,         # Number of layers(Transformer blocks)\n",
        "    \"drop_rate\": 0.1,       # Dropout rate\n",
        "    \"qkv_bias\": False       # Query-Key-Value bias\n",
        "}"
      ],
      "metadata": {
        "id": "vFq5c1REshd-"
      },
      "execution_count": 1,
      "outputs": []
    },
    {
      "cell_type": "markdown",
      "source": [
        "# Part 1: Dummy GPT model class"
      ],
      "metadata": {
        "id": "AS5XjvHxs4bW"
      }
    },
    {
      "cell_type": "markdown",
      "source": [
        "<div class=\"alert alert-info\">\n",
        "\n",
        "Step 1: Use a placeholder for TransformerBlock\n",
        "\n",
        "Step 2: Use a placeholder for LayerNorm\n",
        "\n",
        "</div>"
      ],
      "metadata": {
        "id": "NdkWNleZtEfT"
      }
    },
    {
      "cell_type": "code",
      "source": [
        "import torch\n",
        "import torch.nn as nn\n",
        "\n",
        "\n",
        "class DummyGPTModel(nn.Module):\n",
        "    def __init__(self, cfg):\n",
        "        super().__init__()\n",
        "        self.tok_emb = nn.Embedding(cfg[\"vocab_size\"], cfg[\"emb_dim\"])  # a 50257,768 dim vector space\n",
        "        self.pos_emb = nn.Embedding(cfg[\"context_length\"], cfg[\"emb_dim\"]) # positional embedding\n",
        "        self.drop_emb = nn.Dropout(cfg[\"drop_rate\"])\n",
        "\n",
        "        # Use a placeholder for TransformerBlock\n",
        "        self.trf_blocks = nn.Sequential(\n",
        "            *[DummyTransformerBlock(cfg) for _ in range(cfg[\"n_layers\"])])\n",
        "\n",
        "        # Use a placeholder for LayerNorm\n",
        "        self.final_norm = DummyLayerNorm(cfg[\"emb_dim\"])\n",
        "        self.out_head = nn.Linear(\n",
        "            cfg[\"emb_dim\"], cfg[\"vocab_size\"], bias=False\n",
        "        )\n",
        "\n",
        "    def forward(self, in_idx):\n",
        "        batch_size, seq_len = in_idx.shape\n",
        "        tok_embeds = self.tok_emb(in_idx)\n",
        "        pos_embeds = self.pos_emb(torch.arange(seq_len, device=in_idx.device))\n",
        "        x = tok_embeds + pos_embeds  # final embeddings\n",
        "        x = self.drop_emb(x)\n",
        "        x = self.trf_blocks(x)\n",
        "        x = self.final_norm(x)\n",
        "        logits = self.out_head(x)\n",
        "        return logits\n",
        "\n",
        "\n",
        "class DummyTransformerBlock(nn.Module):\n",
        "    def __init__(self, cfg):\n",
        "        super().__init__()\n",
        "        # A simple placeholder\n",
        "\n",
        "    def forward(self, x):\n",
        "        # This block does nothing and just returns its input.\n",
        "        return x\n",
        "\n",
        "\n",
        "class DummyLayerNorm(nn.Module):\n",
        "    def __init__(self, normalized_shape, eps=1e-5):\n",
        "        super().__init__()\n",
        "        # The parameters here are just to mimic the LayerNorm interface.\n",
        "\n",
        "    def forward(self, x):\n",
        "        # This layer does nothing and just returns its input.\n",
        "        return x"
      ],
      "metadata": {
        "id": "7hFI-jgxsymc"
      },
      "execution_count": 2,
      "outputs": []
    },
    {
      "cell_type": "markdown",
      "source": [
        "## Step 1: Tokenization"
      ],
      "metadata": {
        "id": "bLAmi0pJwfa1"
      }
    },
    {
      "cell_type": "code",
      "source": [
        "!pip install tiktoken"
      ],
      "metadata": {
        "id": "LVhabzxWuUyv",
        "colab": {
          "base_uri": "https://localhost:8080/"
        },
        "outputId": "fa405196-861f-454c-e04c-99bc8f7ec7dd"
      },
      "execution_count": 3,
      "outputs": [
        {
          "output_type": "stream",
          "name": "stdout",
          "text": [
            "Collecting tiktoken\n",
            "  Downloading tiktoken-0.9.0-cp311-cp311-manylinux_2_17_x86_64.manylinux2014_x86_64.whl.metadata (6.7 kB)\n",
            "Requirement already satisfied: regex>=2022.1.18 in /usr/local/lib/python3.11/dist-packages (from tiktoken) (2024.11.6)\n",
            "Requirement already satisfied: requests>=2.26.0 in /usr/local/lib/python3.11/dist-packages (from tiktoken) (2.32.3)\n",
            "Requirement already satisfied: charset-normalizer<4,>=2 in /usr/local/lib/python3.11/dist-packages (from requests>=2.26.0->tiktoken) (3.4.1)\n",
            "Requirement already satisfied: idna<4,>=2.5 in /usr/local/lib/python3.11/dist-packages (from requests>=2.26.0->tiktoken) (3.10)\n",
            "Requirement already satisfied: urllib3<3,>=1.21.1 in /usr/local/lib/python3.11/dist-packages (from requests>=2.26.0->tiktoken) (2.3.0)\n",
            "Requirement already satisfied: certifi>=2017.4.17 in /usr/local/lib/python3.11/dist-packages (from requests>=2.26.0->tiktoken) (2025.1.31)\n",
            "Downloading tiktoken-0.9.0-cp311-cp311-manylinux_2_17_x86_64.manylinux2014_x86_64.whl (1.2 MB)\n",
            "\u001b[2K   \u001b[90m━━━━━━━━━━━━━━━━━━━━━━━━━━━━━━━━━━━━━━━━\u001b[0m \u001b[32m1.2/1.2 MB\u001b[0m \u001b[31m16.1 MB/s\u001b[0m eta \u001b[36m0:00:00\u001b[0m\n",
            "\u001b[?25hInstalling collected packages: tiktoken\n",
            "Successfully installed tiktoken-0.9.0\n"
          ]
        }
      ]
    },
    {
      "cell_type": "code",
      "source": [
        "import tiktoken\n",
        "tokenizer = tiktoken.get_encoding(\"gpt2\")\n",
        "batch = []\n",
        "txt1 = \"Every effort moves you\"\n",
        "txt2 = \"Every day holds a\"\n",
        "batch.append(torch.tensor(tokenizer.encode(txt1)))\n",
        "batch.append(torch.tensor(tokenizer.encode(txt2)))\n",
        "batch = torch.stack(batch, dim=0)\n",
        "print(batch)"
      ],
      "metadata": {
        "colab": {
          "base_uri": "https://localhost:8080/"
        },
        "id": "aBE1v7BGtigy",
        "outputId": "06da315f-f4dd-4274-f51f-2e23bdbc8028"
      },
      "execution_count": 4,
      "outputs": [
        {
          "output_type": "stream",
          "name": "stdout",
          "text": [
            "tensor([[6109, 3626, 6100,  345],\n",
            "        [6109, 1110, 6622,  257]])\n"
          ]
        }
      ]
    },
    {
      "cell_type": "markdown",
      "source": [
        "## Step 2: Create an instance of Dummy GPT model"
      ],
      "metadata": {
        "id": "igbu_JLxwj_W"
      }
    },
    {
      "cell_type": "code",
      "source": [
        "torch.manual_seed(123)\n",
        "model = DummyGPTModel(GPT_CONFIG_124M)\n",
        "logits = model(batch)\n",
        "print(\"Output shape:\", logits.shape)\n",
        "print(logits)"
      ],
      "metadata": {
        "colab": {
          "base_uri": "https://localhost:8080/"
        },
        "id": "XNSuLP9iuTT-",
        "outputId": "17ef21c5-a565-457f-ef3e-5a82f961c6f9"
      },
      "execution_count": 5,
      "outputs": [
        {
          "output_type": "stream",
          "name": "stdout",
          "text": [
            "Output shape: torch.Size([2, 4, 50257])\n",
            "tensor([[[-0.9289,  0.2748, -0.7557,  ..., -1.6070,  0.2702, -0.5888],\n",
            "         [-0.4476,  0.1726,  0.5354,  ..., -0.3932,  1.5285,  0.8557],\n",
            "         [ 0.5680,  1.6053, -0.2155,  ...,  1.1624,  0.1380,  0.7425],\n",
            "         [ 0.0447,  2.4787, -0.8843,  ...,  1.3219, -0.0864, -0.5856]],\n",
            "\n",
            "        [[-1.5474, -0.0542, -1.0571,  ..., -1.8061, -0.4494, -0.6747],\n",
            "         [-0.8422,  0.8243, -0.1098,  ..., -0.1434,  0.2079,  1.2046],\n",
            "         [ 0.1355,  1.1858, -0.1453,  ...,  0.0869, -0.1590,  0.1552],\n",
            "         [ 0.1666, -0.8138,  0.2307,  ...,  2.5035, -0.3055, -0.3083]]],\n",
            "       grad_fn=<UnsafeViewBackward0>)\n"
          ]
        }
      ]
    },
    {
      "cell_type": "markdown",
      "source": [
        "The output tensor has two rows corresponding to the two text samples. Each text sample consists of 4 tokens; each token is a 50,257-dimensional vector, which matches the size of the tokenizer's vocabulary.\n",
        "\n",
        "The embedding has 50,257 dimensions because each of these dimensions refers to a unique token in the vocabulary. At the end of this chapter, when we implement the postprocessing code, we will convert these 50,257-dimensional vectors back into token IDs, which we can then decode into words."
      ],
      "metadata": {
        "id": "p3bQWoO_ShtL"
      }
    },
    {
      "cell_type": "markdown",
      "source": [
        "# Part 2: Layer Normalization"
      ],
      "metadata": {
        "id": "SKOvrNuPhd2M"
      }
    },
    {
      "cell_type": "code",
      "source": [
        "torch.manual_seed(123)\n",
        "batch_example = torch.randn(2, 5) #A\n",
        "layer = nn.Sequential(nn.Linear(5, 6), nn.ReLU())\n",
        "out = layer(batch_example)\n",
        "print(out)\n",
        "\n",
        "\n",
        "# output is as:\n",
        "#batch 1's: [y1,y2,y3,y4,y5,y6]\n",
        "#batch 2's: [y1,y2,y3,y4,y5,y6]"
      ],
      "metadata": {
        "id": "3uXDF07DSiLA",
        "colab": {
          "base_uri": "https://localhost:8080/"
        },
        "outputId": "edd00520-590f-415c-b910-3e9ac7730682"
      },
      "execution_count": 6,
      "outputs": [
        {
          "output_type": "stream",
          "name": "stdout",
          "text": [
            "tensor([[0.2260, 0.3470, 0.0000, 0.2216, 0.0000, 0.0000],\n",
            "        [0.2133, 0.2394, 0.0000, 0.5198, 0.3297, 0.0000]],\n",
            "       grad_fn=<ReluBackward0>)\n"
          ]
        }
      ]
    },
    {
      "cell_type": "markdown",
      "source": [
        "The neural network layer we have coded consists of a Linear layer followed by a non-linear activation function, ReLU (short for Rectified Linear Unit), which is a standard activation function in neural networks.\n",
        "\n",
        "If you are unfamiliar with ReLU, it simply thresholds negative inputs to 0, ensuring that a layer outputs only positive values, which explains why the resulting layer output does not contain any negative values.\n",
        "\n",
        "(Note that we will use another, more sophisticated activation function in GPT, which we will introduce in the next section)."
      ],
      "metadata": {
        "id": "wU2d9vaEizqA"
      }
    },
    {
      "cell_type": "code",
      "source": [
        "mean = out.mean(dim=-1, keepdim=True)\n",
        "var = out.var(dim=-1, keepdim=True)\n",
        "print(\"Mean:\\n\", mean)\n",
        "print(\"Variance:\\n\", var)"
      ],
      "metadata": {
        "id": "SEf00ISpQmRN",
        "colab": {
          "base_uri": "https://localhost:8080/"
        },
        "outputId": "0fc30424-0d48-4200-f700-0814113b9ba9"
      },
      "execution_count": 7,
      "outputs": [
        {
          "output_type": "stream",
          "name": "stdout",
          "text": [
            "Mean:\n",
            " tensor([[0.1324],\n",
            "        [0.2170]], grad_fn=<MeanBackward1>)\n",
            "Variance:\n",
            " tensor([[0.0231],\n",
            "        [0.0398]], grad_fn=<VarBackward0>)\n"
          ]
        }
      ]
    },
    {
      "cell_type": "markdown",
      "source": [
        "The first & second row in the mean tensor above contains the mean values for the first and second input rows, respectively."
      ],
      "metadata": {
        "id": "fJzSlq3fkVqI"
      }
    },
    {
      "cell_type": "markdown",
      "source": [
        "Using keepdim=True in operations like mean or variance calculation ensures that the output tensor retains the same number of dimensions as the input tensor, even though the operation reduces the tensor along the dimension specified via dim.\n",
        "\n",
        "For instance, without keepdim=True, the returned mean tensor would be a 2-dimensional vector [0.1324, 0.2170] instead of a 2×1-dimensional matrix [[0.1324], [0.2170]]."
      ],
      "metadata": {
        "id": "tNEKHpqEl-rm"
      }
    },
    {
      "cell_type": "markdown",
      "source": [
        "For a 2D tensor (like a matrix), using dim=-1 for operations such as mean or variance calculation is the same as using dim=1.\n",
        "\n",
        "This is because -1 refers to the tensor's last dimension, which corresponds to the columns in a 2D tensor.\n",
        "\n",
        "Later, when adding layer normalization to the GPT model, which produces 3D tensors with shape [batch_size, num_tokens, embedding_size], we can still use dim=-1 for normalization across the last dimension, avoiding a change from dim=1 to dim=2.\n",
        "\n",
        "Next, let us apply layer normalization to the layer outputs we obtained earlier. The operation consists of subtracting the mean and dividing by the square root of the variance (also known as standard deviation):"
      ],
      "metadata": {
        "id": "aaRiJgbQn_xj"
      }
    },
    {
      "cell_type": "code",
      "source": [
        "out_norm = (out - mean) / torch.sqrt(var)   #output normalization\n",
        "mean = out_norm.mean(dim=-1, keepdim=True)\n",
        "var = out_norm.var(dim=-1, keepdim=True)\n",
        "print(\"Normalized layer outputs:\\n\", out_norm)\n",
        "print(\"Mean:\\n\", mean)\n",
        "print(\"Variance:\\n\", var)"
      ],
      "metadata": {
        "colab": {
          "base_uri": "https://localhost:8080/"
        },
        "id": "HLDaP-NOkkgR",
        "outputId": "ac1b83e7-ae1c-4732-9a46-23c7eb710998"
      },
      "execution_count": 8,
      "outputs": [
        {
          "output_type": "stream",
          "name": "stdout",
          "text": [
            "Normalized layer outputs:\n",
            " tensor([[ 0.6159,  1.4126, -0.8719,  0.5872, -0.8719, -0.8719],\n",
            "        [-0.0189,  0.1121, -1.0876,  1.5173,  0.5647, -1.0876]],\n",
            "       grad_fn=<DivBackward0>)\n",
            "Mean:\n",
            " tensor([[9.9341e-09],\n",
            "        [1.9868e-08]], grad_fn=<MeanBackward1>)\n",
            "Variance:\n",
            " tensor([[1.0000],\n",
            "        [1.0000]], grad_fn=<VarBackward0>)\n"
          ]
        }
      ]
    },
    {
      "cell_type": "markdown",
      "source": [
        "Note that the value 2.9802e-08 in the output tensor is the scientific notation for 2.9802 × 10-8, which is 0.0000000298 in decimal form. This value is very close to 0, but it is not exactly 0 due to small numerical errors that can accumulate because of the finite precision with which computers represent numbers.\n",
        "\n",
        "To improve readability, we can also turn off the scientific notation when printing tensor values by setting sci_mode to False:"
      ],
      "metadata": {
        "id": "tdZ5O96iowY0"
      }
    },
    {
      "cell_type": "code",
      "source": [
        "torch.set_printoptions(sci_mode=False)\n",
        "print(\"Mean:\\n\", mean)\n",
        "print(\"Variance:\\n\", var)"
      ],
      "metadata": {
        "colab": {
          "base_uri": "https://localhost:8080/"
        },
        "id": "2zi5T5zeoWRF",
        "outputId": "e1ab26ba-03f2-4d19-fa22-223abdac38cb"
      },
      "execution_count": 9,
      "outputs": [
        {
          "output_type": "stream",
          "name": "stdout",
          "text": [
            "Mean:\n",
            " tensor([[    0.0000],\n",
            "        [    0.0000]], grad_fn=<MeanBackward1>)\n",
            "Variance:\n",
            " tensor([[1.0000],\n",
            "        [1.0000]], grad_fn=<VarBackward0>)\n"
          ]
        }
      ]
    },
    {
      "cell_type": "markdown",
      "source": [
        "<div class=\"alert alert-info\">\n",
        "let's now encapsulate this process in a PyTorch module that we can use in the GPT later:\n",
        "<div>"
      ],
      "metadata": {
        "id": "kkhX_kzUo5it"
      }
    },
    {
      "cell_type": "code",
      "source": [
        "class LayerNorm(nn.Module):\n",
        "    def __init__(self, emb_dim):\n",
        "        super().__init__()\n",
        "        self.eps = 1e-5\n",
        "        self.scale = nn.Parameter(torch.ones(emb_dim))\n",
        "        self.shift = nn.Parameter(torch.zeros(emb_dim))\n",
        "\n",
        "    def forward(self, x):\n",
        "        mean = x.mean(dim=-1, keepdim=True)\n",
        "        var = x.var(dim=-1, keepdim=True, unbiased=False)\n",
        "        norm_x = (x - mean) / torch.sqrt(var + self.eps)\n",
        "        return self.scale * norm_x + self.shift"
      ],
      "metadata": {
        "id": "sAyVtD8okWVo"
      },
      "execution_count": 10,
      "outputs": []
    },
    {
      "cell_type": "markdown",
      "source": [
        "This specific implementation of layer Normalization operates on the last dimension of the input tensor x, which represents the embedding dimension (emb_dim).\n",
        "\n",
        "The variable eps is a small constant (epsilon) added to the variance to prevent division by zero during normalization.\n",
        "\n",
        "The scale and shift are two trainable parameters (of the same dimension as the input) that the LLM automatically adjusts during training if it is determined that doing so would improve the model's performance on its training task.\n",
        "\n",
        "This allows the model to learn appropriate scaling and shifting that best suit the data it is processing."
      ],
      "metadata": {
        "id": "0QpgIrI6sy3B"
      }
    },
    {
      "cell_type": "markdown",
      "source": [
        "In our variance calculation method, we have opted for an implementation detail by setting unbiased=False.\n",
        "\n",
        "For those curious about what this means, in the variance calculation, we divide by the number of inputs n in the variance formula.\n",
        "\n",
        "This approach does not apply Bessel's correction, which typically uses n-1 instead of n in the denominator to adjust for bias in sample variance estimation.\n",
        "\n",
        "This decision results in a so-called biased estimate of the variance.\n",
        "\n",
        "For large-scale language models (LLMs), where the embedding dimension n is significantly large, the difference between using n and n-1 is practically negligible.\n",
        "\n",
        "We chose this approach to ensure compatibility with the GPT-2 model's normalization layers and because it reflects TensorFlow's default behavior, which was used to implement the original GPT2 model.\n",
        "\n",
        "Let's now try the LayerNorm module in practice and apply it to the batch input:"
      ],
      "metadata": {
        "id": "FHnmnnqztO-c"
      }
    },
    {
      "cell_type": "code",
      "source": [
        "ln = LayerNorm(emb_dim=5)\n",
        "out_ln = ln(batch_example)\n",
        "mean = out_ln.mean(dim=-1, keepdim=True)\n",
        "var = out_ln.var(dim=-1, unbiased=False, keepdim=True)\n",
        "print(\"Mean:\\n\", mean)\n",
        "print(\"Variance:\\n\", var)\n",
        "print(\"Batch Example:\\n\", batch_example)"
      ],
      "metadata": {
        "colab": {
          "base_uri": "https://localhost:8080/"
        },
        "id": "sfQO-PDOsx-P",
        "outputId": "b210c424-1901-4415-d397-26c7748e24e8"
      },
      "execution_count": 11,
      "outputs": [
        {
          "output_type": "stream",
          "name": "stdout",
          "text": [
            "Mean:\n",
            " tensor([[    -0.0000],\n",
            "        [     0.0000]], grad_fn=<MeanBackward1>)\n",
            "Variance:\n",
            " tensor([[1.0000],\n",
            "        [1.0000]], grad_fn=<VarBackward0>)\n",
            "Batch Example:\n",
            " tensor([[-0.1115,  0.1204, -0.3696, -0.2404, -1.1969],\n",
            "        [ 0.2093, -0.9724, -0.7550,  0.3239, -0.1085]])\n"
          ]
        }
      ]
    },
    {
      "cell_type": "markdown",
      "source": [
        "As we can see based on the results, the layer normalization code works as expected and normalizes the values of each of the two inputs such that they have a mean of 0 and a variance of 1:"
      ],
      "metadata": {
        "id": "5TIQXRxjuLY-"
      }
    },
    {
      "cell_type": "markdown",
      "source": [
        "# Part 3: Feedforward neural network with GELU activation"
      ],
      "metadata": {
        "id": "EjT6kkJzlDut"
      }
    },
    {
      "cell_type": "markdown",
      "source": [
        "Let's implement the GELU activation function approximation used by GPT-2:"
      ],
      "metadata": {
        "id": "P3ZTuYAclS1G"
      }
    },
    {
      "cell_type": "code",
      "source": [
        "class GELU(nn.Module):\n",
        "    def __init__(self):\n",
        "        super().__init__()\n",
        "\n",
        "    def forward(self, x):\n",
        "        return 0.5 * x * (1 + torch.tanh(\n",
        "            torch.sqrt(torch.tensor(2.0 / torch.pi)) *\n",
        "            (x + 0.044715 * torch.pow(x, 3))\n",
        "        ))"
      ],
      "metadata": {
        "id": "Fzzdo0MtuDiG"
      },
      "execution_count": 12,
      "outputs": []
    },
    {
      "cell_type": "markdown",
      "source": [
        "To get an idea of what this GELU function looks like and how it compares to the ReLU function, let's plot these functions side by side:"
      ],
      "metadata": {
        "id": "EzfWbTvYlh-d"
      }
    },
    {
      "cell_type": "code",
      "source": [
        "import matplotlib.pyplot as plt\n",
        "\n",
        "gelu, relu = GELU(), nn.ReLU()\n",
        "\n",
        "# Some sample data\n",
        "x = torch.linspace(-3, 3, 100)\n",
        "y_gelu, y_relu = gelu(x), relu(x)\n",
        "\n",
        "plt.figure(figsize=(8, 3))\n",
        "for i, (y, label) in enumerate(zip([y_gelu, y_relu], [\"GELU\", \"ReLU\"]), 1):\n",
        "    plt.subplot(1, 2, i)\n",
        "    plt.plot(x, y)\n",
        "    plt.title(f\"{label} activation function\")\n",
        "    plt.xlabel(\"x\")\n",
        "    plt.ylabel(f\"{label}(x)\")\n",
        "    plt.grid(True)\n",
        "\n",
        "plt.tight_layout()\n",
        "plt.show()"
      ],
      "metadata": {
        "id": "i--iP7KPt3k-",
        "colab": {
          "base_uri": "https://localhost:8080/",
          "height": 307
        },
        "outputId": "dfe7e624-39db-4eb8-b22b-216b08660834"
      },
      "execution_count": 13,
      "outputs": [
        {
          "output_type": "display_data",
          "data": {
            "text/plain": [
              "<Figure size 800x300 with 2 Axes>"
            ],
            "image/png": "[encoded data removed]"
          },
          "metadata": {}
        }
      ]
    },
    {
      "cell_type": "markdown",
      "source": [
        "As we can see in the resulting plot, ReLU is a piecewise linear function that outputs the input directly if it is positive; otherwise, it outputs zero.\n",
        "\n",
        "GELU is a smooth, nonlinear function that approximates ReLU but with a non-zero gradient for negative values.\n",
        "\n",
        "The smoothness of GELU, as shown in the above figure, can lead to better optimization properties during training, as it allows for more nuanced adjustments to the model's parameters.\n",
        "\n",
        "In contrast, ReLU has a sharp corner at zero, which can sometimes make optimization harder, especially in networks that are very deep or have complex architectures.\n",
        "\n",
        "Moreover, unlike RELU, which outputs zero for any negative input, GELU allows for a small, non-zero output for negative values.\n",
        "\n",
        "*Dead Neuron problem* :  This characteristic means that during the training process, neurons that receive negative input can still contribute to the learning process, albeit to a lesser extent than positive inputs.\n",
        "\n",
        "Next, let's use the GELU function to implement the small neural network module, FeedForward, that we will be using in the LLM's transformer block later:"
      ],
      "metadata": {
        "id": "R81q7vZtlvj2"
      }
    },
    {
      "cell_type": "code",
      "source": [
        "class FeedForward(nn.Module):\n",
        "    def __init__(self, cfg):\n",
        "        super().__init__()\n",
        "        self.layers = nn.Sequential(\n",
        "            nn.Linear(cfg[\"emb_dim\"], 4 * cfg[\"emb_dim\"]),\n",
        "            GELU(),\n",
        "            nn.Linear(4 * cfg[\"emb_dim\"], cfg[\"emb_dim\"]),\n",
        "        )\n",
        "\n",
        "    def forward(self, x):\n",
        "        return self.layers(x)"
      ],
      "metadata": {
        "id": "6PmUDIk4lwWp"
      },
      "execution_count": 14,
      "outputs": []
    },
    {
      "cell_type": "code",
      "source": [
        "print(GPT_CONFIG_124M[\"emb_dim\"])"
      ],
      "metadata": {
        "colab": {
          "base_uri": "https://localhost:8080/"
        },
        "id": "j5rMiUGwL3P2",
        "outputId": "2fe9a977-e5bd-4fa6-9a68-29809afa5f70"
      },
      "execution_count": 15,
      "outputs": [
        {
          "output_type": "stream",
          "name": "stdout",
          "text": [
            "768\n"
          ]
        }
      ]
    },
    {
      "cell_type": "markdown",
      "source": [
        "After the linear layer, the inputs are projected into a 4-times larger space via the first linear layer"
      ],
      "metadata": {
        "id": "b2VlaRWdM1GD"
      }
    },
    {
      "cell_type": "code",
      "source": [
        "print(\"No. of neurons in the first layer(where inputs are projected):\\n\", 4*GPT_CONFIG_124M[\"emb_dim\"])"
      ],
      "metadata": {
        "colab": {
          "base_uri": "https://localhost:8080/"
        },
        "id": "VFqThEIWM0ES",
        "outputId": "cb7537cc-5327-4840-a6d5-98cfbfcdb242"
      },
      "execution_count": 16,
      "outputs": [
        {
          "output_type": "stream",
          "name": "stdout",
          "text": [
            "No. of neurons in the first layer(where inputs are projected):\n",
            " 3072\n"
          ]
        }
      ]
    },
    {
      "cell_type": "markdown",
      "source": [
        "And in the second layer they are compressed back to their original dimension:\n",
        "\n",
        "input_dim=output_dim"
      ],
      "metadata": {
        "id": "IgfH4jv4NYU-"
      }
    },
    {
      "cell_type": "markdown",
      "source": [
        "<div class=\"alert alert-success\">\n",
        "here's how the feedforward neural network module looks like:\n",
        "</div>"
      ],
      "metadata": {
        "id": "9qFBXLtMP0UX"
      }
    },
    {
      "cell_type": "code",
      "source": [
        "import matplotlib.pyplot as plt\n",
        "\n",
        "# Create a figure\n",
        "fig, ax = plt.subplots(figsize=(10, 7))\n",
        "\n",
        "# Define the layers and positions\n",
        "layers = [\n",
        "    {\"y\": 5.0, \"label\": \"Linear layer\", \"in_shape\": \"(2, 3, 3072)\", \"out_shape\": \"(2, 3, 768)\",\n",
        "     \"note\": \"The second linear layer\\ndecreases the embedding\\ndimension by a factor of 4\"},\n",
        "    {\"y\": 3.3, \"label\": \"GELU activation\", \"in_shape\": \"(2, 3, 3072)\", \"out_shape\": \"(2, 3, 3072)\",\n",
        "     \"note\": \"\"},\n",
        "    {\"y\": 1.5, \"label\": \"Linear layer\", \"in_shape\": \"(2, 3, 768)\", \"out_shape\": \"(2, 3, 3072)\",\n",
        "     \"note\": \"The first linear layer\\nincreases the embedding\\ndimension by a factor of 4\"},\n",
        "]\n",
        "\n",
        "# Draw each layer box and annotations\n",
        "for layer in layers:\n",
        "    # Draw rectangle\n",
        "    ax.add_patch(plt.Rectangle((4, layer[\"y\"] - 0.3), 3, 0.6, color=\"#e6f0ff\", ec=\"black\", lw=1.5))\n",
        "    ax.text(5.5, layer[\"y\"], layer[\"label\"], ha=\"center\", va=\"center\", fontsize=11, weight=\"bold\")\n",
        "\n",
        "    # Input/output shapes\n",
        "    ax.text(3.7, layer[\"y\"], f\"Input:\\n{layer['in_shape']}\", ha=\"right\", va=\"center\", fontsize=9)\n",
        "    ax.text(7.3, layer[\"y\"], f\"Output:\\n{layer['out_shape']}\", ha=\"left\", va=\"center\", fontsize=9)\n",
        "\n",
        "    # Additional notes\n",
        "    if layer[\"note\"]:\n",
        "        ax.text(8.1, layer[\"y\"], layer[\"note\"], ha=\"left\", va=\"center\", fontsize=9)\n",
        "\n",
        "# Arrows between layers\n",
        "arrow_ys = [0.7, 2.5, 4.2]\n",
        "for y in arrow_ys:\n",
        "    ax.annotate('', xy=(5.5, y + 0.5), xytext=(5.5, y), arrowprops=dict(arrowstyle=\"->\", lw=1.5))\n",
        "\n",
        "# Input and Output shapes\n",
        "ax.text(5.5, 0.3, \"Input tensor with\\nshape (2, 3, 768)\", ha=\"center\", va=\"center\", fontsize=10, style=\"italic\")\n",
        "ax.text(5.5, 6.2, \"Output tensor with\\nshape (2, 3, 768)\", ha=\"center\", va=\"center\", fontsize=10, style=\"italic\")\n",
        "\n",
        "# Bottom explanatory note\n",
        "ax.text(1, 0.1,\n",
        "        \"The three values represent the batch size (2),\\nnumber of tokens (3), and embedding size (768)\",\n",
        "        fontsize=9, va=\"center\", ha=\"left\")\n",
        "\n",
        "# Final figure formatting\n",
        "ax.set_xlim(0, 10)\n",
        "ax.set_ylim(0, 6.5)\n",
        "ax.axis(\"off\")\n",
        "plt.tight_layout()\n",
        "plt.show()\n"
      ],
      "metadata": {
        "colab": {
          "base_uri": "https://localhost:8080/",
          "height": 705
        },
        "id": "P_JI1kclNOJ2",
        "outputId": "2da3392c-257b-4560-b131-81f695e572bd"
      },
      "execution_count": 17,
      "outputs": [
        {
          "output_type": "display_data",
          "data": {
            "text/plain": [
              "<Figure size 1000x700 with 1 Axes>"
            ],
            "image/png": "[encoded data removed]"
          },
          "metadata": {}
        }
      ]
    },
    {
      "cell_type": "markdown",
      "source": [
        "As we can see in the preceding code, the FeedForward module is a small neural network consisting of two Linear layers and a GELU activation function.\n",
        "\n",
        "In the 124 million parameter GPT model, it receives the input batches with tokens that have an embedding size of 768 each via the GPT_CONFIG_124M dictionary where GPT_CONFIG_124M[\"emb_dim\"] = 768.\n",
        "\n",
        "Let's use the GELU function to implement the small neural network module, FeedForward, that we will be using in the LLM's transformer block later:"
      ],
      "metadata": {
        "id": "ls1uAZ92SQIv"
      }
    },
    {
      "cell_type": "code",
      "source": [
        "ffn = FeedForward(GPT_CONFIG_124M)\n",
        "x = torch.rand(2, 3, 768) #A\n",
        "out = ffn(x)\n",
        "print(out.shape)"
      ],
      "metadata": {
        "colab": {
          "base_uri": "https://localhost:8080/"
        },
        "id": "YEkYWN8HR6CQ",
        "outputId": "017f426f-dcaa-410b-a88e-7b1a73ed5e3c"
      },
      "execution_count": 18,
      "outputs": [
        {
          "output_type": "stream",
          "name": "stdout",
          "text": [
            "torch.Size([2, 3, 768])\n"
          ]
        }
      ]
    },
    {
      "cell_type": "markdown",
      "source": [
        "The FeedForward module we implemented in this section plays a crucial role in enhancing the model's ability to learn from and generalize the data.\n",
        "\n",
        "Although the input and output dimensions of this module are the same, it internally expands the embedding dimension into a higher-dimensional space through the first linear layer.\n",
        "\n",
        "This expansion is followed by a non-linear GELU activation, and then a contraction back to the original dimension with the second linear transformation.\n",
        "\n",
        "Such a design allows for the exploration of a richer representation space.\n",
        "\n",
        "Moreover, the uniformity in input and output dimensions simplifies the architecture by enabling the stacking of multiple layers, as we will do later, without the need to adjust dimensions between them, thus making the model more scalable.(particulary in a transformer block)"
      ],
      "metadata": {
        "id": "kY5Vh0bTSrQo"
      }
    },
    {
      "cell_type": "markdown",
      "source": [
        "# Part 4: Shortcut Connections"
      ],
      "metadata": {
        "id": "tfrMm4_NBuZR"
      }
    },
    {
      "cell_type": "markdown",
      "source": [
        "Let us understand about Shortcut Connections"
      ],
      "metadata": {
        "id": "PvAuPzVjCOCq"
      }
    },
    {
      "cell_type": "code",
      "source": [
        "class ExampleDeepNeuralNetwork(nn.Module):\n",
        "    def __init__(self, layer_sizes, use_shortcut):\n",
        "        super().__init__()\n",
        "        self.use_shortcut = use_shortcut\n",
        "        self.layers = nn.ModuleList([\n",
        "            nn.Sequential(nn.Linear(layer_sizes[0], layer_sizes[1]), GELU()),\n",
        "            nn.Sequential(nn.Linear(layer_sizes[1], layer_sizes[2]), GELU()),\n",
        "            nn.Sequential(nn.Linear(layer_sizes[2], layer_sizes[3]), GELU()),\n",
        "            nn.Sequential(nn.Linear(layer_sizes[3], layer_sizes[4]), GELU()),\n",
        "            nn.Sequential(nn.Linear(layer_sizes[4], layer_sizes[5]), GELU())\n",
        "        ])\n",
        "\n",
        "    def forward(self, x):\n",
        "        for layer in self.layers:\n",
        "            # Compute the output of the current layer\n",
        "            layer_output = layer(x)\n",
        "            # Check if shortcut can be applied\n",
        "            if self.use_shortcut and x.shape == layer_output.shape:\n",
        "                x = x + layer_output\n",
        "            else:\n",
        "                x = layer_output\n",
        "        return x"
      ],
      "metadata": {
        "id": "uWaE38oXRCBY"
      },
      "execution_count": 19,
      "outputs": []
    },
    {
      "cell_type": "markdown",
      "source": [
        "The code implements a deep neural network with 5 layers, each consisting of a Linear layer and a GELU activation function.\n",
        "\n",
        "In the forward pass, we iteratively pass the input through the layers and optionally add the shortcut connections if the self.use_shortcut attribute is set to True.\n",
        "\n",
        "Let's use this code to first initialize a neural network without shortcut connections. Here, each layer will be initialized such that it accepts an example with 3 input values and returns 3 output values. The last layer returns a single output value:"
      ],
      "metadata": {
        "id": "UisT50yAD2g5"
      }
    },
    {
      "cell_type": "code",
      "source": [
        "layer_sizes = [3, 3, 3, 3, 3, 1]\n",
        "sample_input = torch.tensor([[1., 0., -1.]])\n",
        "torch.manual_seed(123) # specify random seed for the initial weights for reproducibility\n",
        "model_without_shortcut = ExampleDeepNeuralNetwork(\n",
        "layer_sizes, use_shortcut=False\n",
        ")"
      ],
      "metadata": {
        "id": "Vk-oJDvpUdAl"
      },
      "execution_count": 20,
      "outputs": []
    },
    {
      "cell_type": "markdown",
      "source": [
        "Next, we implement a function that computes the gradients in the the model's backward pass:"
      ],
      "metadata": {
        "id": "T6JgoDFGDzfE"
      }
    },
    {
      "cell_type": "code",
      "source": [
        "\n",
        "def print_gradients(model, x):\n",
        "    # Forward pass\n",
        "    output = model(x)\n",
        "    target = torch.tensor([[0.]])\n",
        "\n",
        "    # Calculate loss based on how close the target\n",
        "    # and output are\n",
        "    loss = nn.MSELoss()\n",
        "    loss = loss(output, target)\n",
        "\n",
        "    # Backward pass to calculate the gradients\n",
        "    loss.backward()\n",
        "\n",
        "    for name, param in model.named_parameters():\n",
        "        if 'weight' in name:\n",
        "            # Print the mean absolute gradient of the weights\n",
        "            print(f\"{name} has gradient mean of {param.grad.abs().mean().item()}\")"
      ],
      "metadata": {
        "id": "HJiqO5tvDzDi"
      },
      "execution_count": 21,
      "outputs": []
    },
    {
      "cell_type": "markdown",
      "source": [
        "In the preceding code, we specify a loss function that computes how close the model output and a user-specified target (here, for simplicity, the value 0) are.\n",
        "\n",
        "Then, when calling loss.backward(), PyTorch computes the loss gradient for each layer in the model.\n",
        "\n",
        "We can iterate through the weight parameters via model.named_parameters().\n",
        "\n",
        "Suppose we have a 3×3 weight parameter matrix for a given layer.\n",
        "\n",
        "In that case, this layer will have 3×3 gradient values, and we print the mean absolute gradient of these 3×3 gradient values to obtain a single gradient value per layer to compare the gradients between layers more easily.\n",
        "\n",
        "In short, the .backward() method is a convenient method in PyTorch that computes loss gradients, which are required during model training, without implementing the math for the gradient calculation ourselves, thereby making working with deep neural networks much more accessible.\n",
        "\n",
        "Let's now use the print_gradients function and apply it to the model without skip connections:"
      ],
      "metadata": {
        "id": "goNn6paEENGc"
      }
    },
    {
      "cell_type": "code",
      "source": [
        "print_gradients(model_without_shortcut, sample_input)"
      ],
      "metadata": {
        "colab": {
          "base_uri": "https://localhost:8080/"
        },
        "id": "sH-dPaJQEL-o",
        "outputId": "0be2e2a2-568f-47d9-9f68-918f0f7492b7"
      },
      "execution_count": 22,
      "outputs": [
        {
          "output_type": "stream",
          "name": "stdout",
          "text": [
            "layers.0.0.weight has gradient mean of 0.00020173584925942123\n",
            "layers.1.0.weight has gradient mean of 0.00012011159560643137\n",
            "layers.2.0.weight has gradient mean of 0.0007152040489017963\n",
            "layers.3.0.weight has gradient mean of 0.0013988736318424344\n",
            "layers.4.0.weight has gradient mean of 0.005049645435065031\n"
          ]
        }
      ]
    },
    {
      "cell_type": "markdown",
      "source": [
        "\n",
        "As we can see based on the output of the print_gradients function, the gradients become smaller as we progress from the last layer (layers.4) to the first layer (layers.0), which is a phenomenon called the vanishing gradient problem.\n",
        "\n",
        "Let's now instantiate a model with skip connections and see how it compares:"
      ],
      "metadata": {
        "id": "B29Gq1TFFjb5"
      }
    },
    {
      "cell_type": "code",
      "source": [
        "torch.manual_seed(123)\n",
        "model_with_shortcut = ExampleDeepNeuralNetwork(\n",
        "layer_sizes, use_shortcut=True\n",
        ")\n",
        "print_gradients(model_with_shortcut, sample_input)"
      ],
      "metadata": {
        "colab": {
          "base_uri": "https://localhost:8080/"
        },
        "id": "HpYiBCOJEixm",
        "outputId": "3675ce34-6ba2-404a-f473-ed8c905b275e"
      },
      "execution_count": 23,
      "outputs": [
        {
          "output_type": "stream",
          "name": "stdout",
          "text": [
            "layers.0.0.weight has gradient mean of 0.22169791162014008\n",
            "layers.1.0.weight has gradient mean of 0.20694105327129364\n",
            "layers.2.0.weight has gradient mean of 0.32896995544433594\n",
            "layers.3.0.weight has gradient mean of 0.2665732204914093\n",
            "layers.4.0.weight has gradient mean of 1.3258540630340576\n"
          ]
        }
      ]
    },
    {
      "cell_type": "markdown",
      "source": [
        "As we can see, based on the output, the last layer (layers.4) still has a larger gradient than the other layers.\n",
        "However, the gradient value stabilizes as we progress towards the first layer (layers.0) and doesn't shrink to a vanishingly small value.\n",
        "\n",
        "In conclusion, shortcut connections are important for overcoming the limitations posed by the vanishing gradient problem in deep neural networks.\n",
        "\n",
        "Shortcut connections are a core building block of very large models such as LLMs, and they will help facilitate more effective training by ensuring consistent gradient flow across layers when we train the GPT model"
      ],
      "metadata": {
        "id": "6oVgnAypGQGB"
      }
    },
    {
      "cell_type": "markdown",
      "source": [
        "# part 5: Coding attention and linear layer in a Transformer block"
      ],
      "metadata": {
        "id": "Ub3rtU8WZYBX"
      }
    },
    {
      "cell_type": "code",
      "source": [],
      "metadata": {
        "id": "tqTro2k6GQw2"
      },
      "execution_count": 23,
      "outputs": []
    }
  ]
}